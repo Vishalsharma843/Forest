{
 "cells": [
  {
   "cell_type": "markdown",
   "id": "7ec60aa7-247b-44c4-84cc-a22238d88283",
   "metadata": {},
   "source": [
    "1. Importing libraries"
   ]
  },
  {
   "cell_type": "code",
   "execution_count": 3,
   "id": "8a8a19ab-4800-4906-9ebe-38858415e8da",
   "metadata": {},
   "outputs": [
    {
     "name": "stdout",
     "output_type": "stream",
     "text": [
      "Requirement already satisfied: rasterio in c:\\users\\vishal-sharma\\appdata\\local\\programs\\python\\python310\\lib\\site-packages (1.3.9)\n",
      "Requirement already satisfied: click>=4.0 in c:\\users\\vishal-sharma\\appdata\\local\\programs\\python\\python310\\lib\\site-packages (from rasterio) (8.1.7)\n",
      "Requirement already satisfied: numpy in c:\\users\\vishal-sharma\\appdata\\local\\programs\\python\\python310\\lib\\site-packages (from rasterio) (1.26.1)\n",
      "Requirement already satisfied: cligj>=0.5 in c:\\users\\vishal-sharma\\appdata\\local\\programs\\python\\python310\\lib\\site-packages (from rasterio) (0.7.2)\n",
      "Requirement already satisfied: certifi in c:\\users\\vishal-sharma\\appdata\\local\\programs\\python\\python310\\lib\\site-packages (from rasterio) (2023.7.22)\n",
      "Requirement already satisfied: attrs in c:\\users\\vishal-sharma\\appdata\\local\\programs\\python\\python310\\lib\\site-packages (from rasterio) (23.1.0)\n",
      "Requirement already satisfied: snuggs>=1.4.1 in c:\\users\\vishal-sharma\\appdata\\local\\programs\\python\\python310\\lib\\site-packages (from rasterio) (1.4.7)\n",
      "Requirement already satisfied: affine in c:\\users\\vishal-sharma\\appdata\\local\\programs\\python\\python310\\lib\\site-packages (from rasterio) (2.4.0)\n",
      "Requirement already satisfied: click-plugins in c:\\users\\vishal-sharma\\appdata\\local\\programs\\python\\python310\\lib\\site-packages (from rasterio) (1.1.1)\n",
      "Requirement already satisfied: setuptools in c:\\users\\vishal-sharma\\appdata\\local\\programs\\python\\python310\\lib\\site-packages (from rasterio) (65.5.0)\n",
      "Requirement already satisfied: colorama in c:\\users\\vishal-sharma\\appdata\\local\\programs\\python\\python310\\lib\\site-packages (from click>=4.0->rasterio) (0.4.6)\n",
      "Requirement already satisfied: pyparsing>=2.1.6 in c:\\users\\vishal-sharma\\appdata\\local\\programs\\python\\python310\\lib\\site-packages (from snuggs>=1.4.1->rasterio) (3.1.1)\n"
     ]
    },
    {
     "name": "stderr",
     "output_type": "stream",
     "text": [
      "\n",
      "[notice] A new release of pip available: 22.3.1 -> 23.3.2\n",
      "[notice] To update, run: python.exe -m pip install --upgrade pip\n"
     ]
    },
    {
     "ename": "ModuleNotFoundError",
     "evalue": "No module named 'torchvision'",
     "output_type": "error",
     "traceback": [
      "\u001b[1;31m---------------------------------------------------------------------------\u001b[0m",
      "\u001b[1;31mModuleNotFoundError\u001b[0m                       Traceback (most recent call last)",
      "Cell \u001b[1;32mIn[3], line 21\u001b[0m\n\u001b[0;32m     18\u001b[0m \u001b[38;5;28;01mfrom\u001b[39;00m \u001b[38;5;21;01mtorch\u001b[39;00m\u001b[38;5;21;01m.\u001b[39;00m\u001b[38;5;21;01mutils\u001b[39;00m\u001b[38;5;21;01m.\u001b[39;00m\u001b[38;5;21;01mdata\u001b[39;00m \u001b[38;5;28;01mimport\u001b[39;00m DataLoader\n\u001b[0;32m     20\u001b[0m \u001b[38;5;66;03m# Torch data manipulation\u001b[39;00m\n\u001b[1;32m---> 21\u001b[0m \u001b[38;5;28;01mimport\u001b[39;00m \u001b[38;5;21;01mtorchvision\u001b[39;00m\n\u001b[0;32m     22\u001b[0m \u001b[38;5;28;01mfrom\u001b[39;00m \u001b[38;5;21;01mtorchvision\u001b[39;00m \u001b[38;5;28;01mimport\u001b[39;00m transforms\n\u001b[0;32m     23\u001b[0m \u001b[38;5;28;01mimport\u001b[39;00m \u001b[38;5;21;01malbumentations\u001b[39;00m \u001b[38;5;28;01mas\u001b[39;00m \u001b[38;5;21;01mA\u001b[39;00m\n",
      "\u001b[1;31mModuleNotFoundError\u001b[0m: No module named 'torchvision'"
     ]
    }
   ],
   "source": [
    "\n",
    "# Ignore warnings\n",
    "import warnings\n",
    "warnings.filterwarnings('ignore')\n",
    "\n",
    "# Standard ML Libraries\n",
    "import os\n",
    "import numpy as np\n",
    "import pandas as pd\n",
    "import matplotlib.pyplot as plt\n",
    "import random\n",
    "\n",
    "# Deep learning utilities\n",
    "import torch\n",
    "import torch.nn as nn\n",
    "import torch.nn.functional as F\n",
    "from torch.utils.data.dataset import Dataset\n",
    "from torch.utils.data import DataLoader\n",
    "\n",
    "# Torch data manipulation\n",
    "import torchvision\n",
    "from torchvision import transforms\n",
    "import albumentations as A\n",
    "\n",
    "# Metrics\n",
    "import torchmetrics as tm\n",
    "\n",
    "# GeoTIFF image\n",
    "import rasterio as rio\n",
    "from rasterio.plot import show"
   ]
  },
  {
   "cell_type": "code",
   "execution_count": null,
   "id": "eb67f459-9b27-4db0-acc1-3aef3319f41e",
   "metadata": {},
   "outputs": [],
   "source": []
  },
  {
   "cell_type": "code",
   "execution_count": null,
   "id": "a1671fb6-186e-48b6-bdc8-8f159a04df50",
   "metadata": {},
   "outputs": [],
   "source": []
  }
 ],
 "metadata": {
  "kernelspec": {
   "display_name": "Python 3 (ipykernel)",
   "language": "python",
   "name": "python3"
  },
  "language_info": {
   "codemirror_mode": {
    "name": "ipython",
    "version": 3
   },
   "file_extension": ".py",
   "mimetype": "text/x-python",
   "name": "python",
   "nbconvert_exporter": "python",
   "pygments_lexer": "ipython3",
   "version": "3.10.10"
  }
 },
 "nbformat": 4,
 "nbformat_minor": 5
}
