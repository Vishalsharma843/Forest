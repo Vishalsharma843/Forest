{
 "cells": [
  {
   "cell_type": "code",
   "execution_count": 1,
   "id": "454ee0e7-3c28-4c5a-8cad-546c28b4998d",
   "metadata": {},
   "outputs": [],
   "source": [
    "# Ignore warnings\n",
    "import warnings\n",
    "warnings.filterwarnings('ignore')\n",
    "\n",
    "# Standard ML Libraries\n",
    "import os\n",
    "import numpy as np\n",
    "import pandas as pd\n",
    "import matplotlib.pyplot as plt\n",
    "import random\n",
    "\n",
    "# Deep learning utilities\n",
    "import torch\n",
    "import torch.nn as nn\n",
    "import torch.nn.functional as F\n",
    "from torch.utils.data.dataset import Dataset\n",
    "from torch.utils.data import DataLoader\n",
    "\n",
    "# Torch data manipulation\n",
    "import torchvision\n",
    "from torchvision import transforms\n",
    "import albumentations as A\n",
    "\n",
    "# Metrics\n",
    "import torchmetrics as tm\n",
    "\n",
    "# GeoTIFF image\n",
    "import rasterio as rio\n",
    "from rasterio.plot import show"
   ]
  },
  {
   "cell_type": "code",
   "execution_count": 2,
   "id": "035fab5f-e0b9-413c-9503-86fc55359552",
   "metadata": {},
   "outputs": [],
   "source": [
    "# Set device variable\n",
    "DEVICE = 'gpu' if torch.cuda.is_available else 'cpu'\n",
    "\n",
    "# Random control\n",
    "RANDOM_SEED = 42\n",
    "\n",
    "# Main path\n",
    "MAIN_PATH = 'C://Users//vishal-sharma//Downloads//archive (2)//AMAZON//AMAZON'"
   ]
  },
  {
   "cell_type": "code",
   "execution_count": 3,
   "id": "a1391531-70a7-427e-8097-1730fc29a474",
   "metadata": {},
   "outputs": [],
   "source": [
    "def prepare_path_lists(main_path: str,\n",
    "                      data_name: str):\n",
    "\n",
    "    image_list = []\n",
    "    mask_list = []\n",
    "    mask_paths = []\n",
    "    \n",
    "    # List of possible mask dirs\n",
    "    for option in ['label', 'mask', 'masks']:\n",
    "        mask_paths.append(os.path.join(data_name, option))\n",
    "    \n",
    "    # Image dir\n",
    "    image_path = os.path.join(data_name, 'image')\n",
    "    \n",
    "    # Loop throught all files to get proper lists\n",
    "    for root, dirs, files in os.walk(main_path):\n",
    "        for file in files:\n",
    "            full_path = os.path.join(root, file)\n",
    "            if image_path in full_path and full_path.endswith('.tif'):\n",
    "                image_list.append(full_path)\n",
    "            elif any(mask in full_path for mask in mask_paths) and full_path.endswith('.tif'):\n",
    "                mask_list.append(full_path)\n",
    "                \n",
    "    return image_list, mask_list"
   ]
  },
  {
   "cell_type": "code",
   "execution_count": 4,
   "id": "f0cdcc90-39fc-4da6-874d-afe570c5a4f1",
   "metadata": {},
   "outputs": [],
   "source": [
    "# Training data\n",
    "training_image_list, training_mask_list = prepare_path_lists(main_path=MAIN_PATH, data_name='Training')\n",
    "\n",
    "# Test data\n",
    "test_image_list, test_mask_list = prepare_path_lists(main_path=MAIN_PATH, data_name='Test')\n",
    "\n",
    "# Validation data\n",
    "val_image_list, val_mask_list = prepare_path_lists(main_path=MAIN_PATH, data_name='Validation')"
   ]
  },
  {
   "cell_type": "code",
   "execution_count": null,
   "id": "8a55cd22-82c7-4526-a202-59371fcc71d8",
   "metadata": {},
   "outputs": [],
   "source": [
    "train_df = pd.DataFrame(list(zip(training_image_list, training_mask_list)), \n",
    "                        columns=['image_path', 'mask_path'])\n",
    "\n",
    "test_df = pd.DataFrame(list(zip(test_image_list, test_mask_list)), \n",
    "                        columns=['image_path', 'mask_path'])\n",
    "\n",
    "val_df = pd.DataFrame(list(zip(val_image_list, val_mask_list)), \n",
    "                        columns=['image_path', 'mask_path'])\n",
    "\n",
    "print(f'Training data contains: {len(train_df)} files')\n",
    "print(f'Test data contains: {len(test_df)} files')\n",
    "print(f'Validation data contains: {len(val_df)} files')"
   ]
  },
  {
   "cell_type": "code",
   "execution_count": null,
   "id": "7d387ab0-032f-4f20-81a3-afc5ac9ac5c0",
   "metadata": {},
   "outputs": [],
   "source": []
  }
 ],
 "metadata": {
  "kernelspec": {
   "display_name": "Python 3 (ipykernel)",
   "language": "python",
   "name": "python3"
  },
  "language_info": {
   "codemirror_mode": {
    "name": "ipython",
    "version": 3
   },
   "file_extension": ".py",
   "mimetype": "text/x-python",
   "name": "python",
   "nbconvert_exporter": "python",
   "pygments_lexer": "ipython3",
   "version": "3.10.10"
  }
 },
 "nbformat": 4,
 "nbformat_minor": 5
}
